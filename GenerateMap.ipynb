{
 "cells": [
  {
   "cell_type": "markdown",
   "metadata": {
    "vscode": {
     "languageId": "plaintext"
    }
   },
   "source": [
    "# Generate Latent Space Map using trained encoder + classifier"
   ]
  },
  {
   "cell_type": "markdown",
   "metadata": {},
   "source": [
    "## 0. Imports"
   ]
  },
  {
   "cell_type": "code",
   "execution_count": null,
   "metadata": {},
   "outputs": [],
   "source": [
    "import numpy as np\n",
    "import pandas as pd\n",
    "import tensorflow as tf\n",
    "from keras import models, layers, applications, backend as K\n",
    "from tensorflow.keras.losses import MeanSquaredError, KLDivergence\n",
    "from plotly import express as px"
   ]
  },
  {
   "cell_type": "markdown",
   "metadata": {},
   "source": [
    "## 1. Load SOTA classifier"
   ]
  },
  {
   "cell_type": "code",
   "execution_count": null,
   "metadata": {},
   "outputs": [],
   "source": [
    "classifier = keras.models.load_model('best_classifier.h5', compile=False)\n",
    "classifier.compile(optimizer = 'adam', loss = 'binary_crossentropy', metrics = ['accuracy'])"
   ]
  },
  {
   "cell_type": "markdown",
   "metadata": {},
   "source": [
    "## 2. Load SOTA decoder (Latent Space Z -> Img)"
   ]
  },
  {
   "cell_type": "code",
   "execution_count": null,
   "metadata": {},
   "outputs": [],
   "source": [
    "decoder = keras.models.load_model('best_decoder.h5')"
   ]
  },
  {
   "cell_type": "markdown",
   "metadata": {},
   "source": [
    "## 3. Generate grid of points"
   ]
  },
  {
   "cell_type": "code",
   "execution_count": null,
   "metadata": {},
   "outputs": [],
   "source": [
    "from itertools import product\n",
    "x = np.linspace(0,1,500)\n",
    "y = np.linspace(0,1,500)\n",
    "grid = np.array([(a,b) for a,b in product(x,y)])"
   ]
  },
  {
   "cell_type": "markdown",
   "metadata": {},
   "source": [
    "## 4. Decode the grid to generated images using the decoder"
   ]
  },
  {
   "cell_type": "code",
   "execution_count": null,
   "metadata": {},
   "outputs": [],
   "source": [
    "decoder_preds = decoder.predict(grid)\n",
    "\n",
    "# Save to reuse later\n",
    "np.save('decoder_preds.npy', decoder_preds)\n",
    "\n",
    "print(decoder_preds.shape)"
   ]
  },
  {
   "cell_type": "markdown",
   "metadata": {},
   "source": [
    "## 5. Classify the prediction of decoder into classes using classifier"
   ]
  },
  {
   "cell_type": "code",
   "execution_count": null,
   "metadata": {},
   "outputs": [],
   "source": [
    "classifier_preds = classifier.predict(decoder_preds)\n",
    "\n",
    "print(classifier_preds.shape)\n",
    "\n",
    "classifier_preds = np.argmax(classifier_preds, axis=1)\n",
    "\n",
    "# Save to reuse later (this is actually a useful artifact for mapSpace function)\n",
    "np.save('classifier_preds.npy', classifier_preds)"
   ]
  },
  {
   "cell_type": "markdown",
   "metadata": {},
   "source": [
    "## 6. Build and display map"
   ]
  },
  {
   "cell_type": "code",
   "execution_count": null,
   "metadata": {},
   "outputs": [],
   "source": [
    "# Define a discrete color map with 10 distinct colors for each class\n",
    "color_map = {\n",
    "    0: 'red',\n",
    "    1: 'blue',\n",
    "    2: 'green',\n",
    "    3: 'purple',\n",
    "    4: 'orange',\n",
    "    5: 'cyan',\n",
    "    6: 'magenta',\n",
    "    7: 'yellow',\n",
    "    8: 'lime',\n",
    "    9: 'brown',\n",
    "}\n",
    "\n",
    "# Create a mapping of class labels to text labels\n",
    "class_labels = {\n",
    "    0: 'T-shirt/top',\n",
    "    1: 'Trouser',\n",
    "    2: 'Pullover',\n",
    "    3: 'Dress',\n",
    "    4: 'Coat',\n",
    "    5: 'Sandal',\n",
    "    6: 'Shirt',\n",
    "    7: 'Sneaker',\n",
    "    8: 'Bag',\n",
    "    9: 'Ankle boot',\n",
    "}\n"
   ]
  },
  {
   "cell_type": "code",
   "execution_count": null,
   "metadata": {},
   "outputs": [],
   "source": [
    "point = [0.66, 0.232]\n",
    "fig = px.imshow(decoder.predict([point])[0, :, :, 0])\n",
    "fig.show()\n",
    "print(class_labels[np.argmax(classifier.predict(decoder.predict([point])))])"
   ]
  },
  {
   "cell_type": "code",
   "execution_count": null,
   "metadata": {},
   "outputs": [],
   "source": [
    "# Map the labels to their corresponding colors\n",
    "colors = [color_map[label] for label in classifier_preds]\n",
    "\n",
    "# Create the scatter plot\n",
    "plt.scatter(grid[:, 0], grid[:, 1], c=colors, s=5)\n",
    "\n",
    "# Set the aspect ratio to be equal for x and y axes\n",
    "plt.axis('equal')\n",
    "\n",
    "# Set axis labels and title\n",
    "plt.xlabel('X Coordinate')\n",
    "plt.ylabel('Y Coordinate')\n",
    "plt.title('Discrete Colored Map by Labels')\n",
    "\n",
    "# Show the plot\n",
    "plt.show()"
   ]
  }
 ],
 "metadata": {
  "kernelspec": {
   "display_name": "insta_gen_env",
   "language": "python",
   "name": "python3"
  },
  "language_info": {
   "codemirror_mode": {
    "name": "ipython",
    "version": 3
   },
   "file_extension": ".py",
   "mimetype": "text/x-python",
   "name": "python",
   "nbconvert_exporter": "python",
   "pygments_lexer": "ipython3",
   "version": "3.8.13"
  },
  "orig_nbformat": 4
 },
 "nbformat": 4,
 "nbformat_minor": 2
}
