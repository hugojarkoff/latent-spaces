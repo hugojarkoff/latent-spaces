{
 "cells": [
  {
   "cell_type": "markdown",
   "metadata": {
    "vscode": {
     "languageId": "plaintext"
    }
   },
   "source": [
    "# Generate Latent Space Map using trained encoder + classifier"
   ]
  },
  {
   "cell_type": "markdown",
   "metadata": {},
   "source": [
    "## 0. Imports"
   ]
  },
  {
   "cell_type": "code",
   "execution_count": null,
   "metadata": {},
   "outputs": [],
   "source": [
    "import numpy as np\n",
    "import pandas as pd\n",
    "from itertools import product\n",
    "from tensorflow import keras\n",
    "from matplotlib import pyplot as plt"
   ]
  },
  {
   "cell_type": "markdown",
   "metadata": {},
   "source": [
    "## 1. Load SOTA classifier"
   ]
  },
  {
   "cell_type": "code",
   "execution_count": null,
   "metadata": {},
   "outputs": [],
   "source": [
    "classifier = keras.models.load_model('training/saved_models/best_classifier.h5', compile=False)\n",
    "classifier.compile(optimizer = 'adam', loss = 'binary_crossentropy', metrics = ['accuracy'])"
   ]
  },
  {
   "cell_type": "markdown",
   "metadata": {},
   "source": [
    "## 2. Load SOTA decoder (Latent Space Z -> Img)"
   ]
  },
  {
   "cell_type": "code",
   "execution_count": null,
   "metadata": {},
   "outputs": [],
   "source": [
    "decoder = keras.models.load_model('training/saved_models/best_decoder.h5')"
   ]
  },
  {
   "cell_type": "markdown",
   "metadata": {},
   "source": [
    "## 3. Generate grid of points"
   ]
  },
  {
   "cell_type": "code",
   "execution_count": null,
   "metadata": {},
   "outputs": [],
   "source": [
    "x = np.linspace(0,1,500)\n",
    "y = np.linspace(0,1,500)\n",
    "grid = np.array([(a,b) for a,b in product(x,y)])"
   ]
  },
  {
   "cell_type": "markdown",
   "metadata": {},
   "source": [
    "## 4. Decode the grid to generated images using the decoder"
   ]
  },
  {
   "cell_type": "code",
   "execution_count": null,
   "metadata": {},
   "outputs": [],
   "source": [
    "decoder_preds = decoder.predict(grid)\n",
    "\n",
    "# Save to reuse later\n",
    "np.save('artifacts/decoder_preds.npy', decoder_preds)\n",
    "\n",
    "print(decoder_preds.shape)"
   ]
  },
  {
   "cell_type": "markdown",
   "metadata": {},
   "source": [
    "## 5. Classify the prediction of decoder into classes using classifier"
   ]
  },
  {
   "cell_type": "code",
   "execution_count": null,
   "metadata": {},
   "outputs": [],
   "source": [
    "classifier_preds = classifier.predict(decoder_preds)\n",
    "\n",
    "print(classifier_preds.shape)\n",
    "\n",
    "classifier_preds = np.argmax(classifier_preds, axis=1)\n",
    "\n",
    "# Save to reuse later (this is actually a useful artifact for mapSpace function)\n",
    "np.save('artifacts/classifier_preds.npy', classifier_preds)"
   ]
  },
  {
   "cell_type": "markdown",
   "metadata": {},
   "source": [
    "## 6. Build and display map"
   ]
  },
  {
   "cell_type": "code",
   "execution_count": null,
   "metadata": {},
   "outputs": [],
   "source": [
    "# Define your color map using hexadecimal color codes\n",
    "color_map = {\n",
    "    0: 'red',\n",
    "    1: 'blue',\n",
    "    2: 'green',\n",
    "    3: 'purple',\n",
    "    4: 'orange',\n",
    "    5: 'cyan',\n",
    "    6: 'magenta',\n",
    "    7: 'yellow',\n",
    "    8: 'lime',\n",
    "    9: 'brown',\n",
    "}\n",
    "\n",
    "# Create a mapping of class labels to text labels\n",
    "class_labels = {\n",
    "    0: 'T-shirt/top',\n",
    "    1: 'Trouser',\n",
    "    2: 'Pullover',\n",
    "    3: 'Dress',\n",
    "    4: 'Coat',\n",
    "    5: 'Sandal',\n",
    "    6: 'Shirt',\n",
    "    7: 'Sneaker',\n",
    "    8: 'Bag',\n",
    "    9: 'Ankle boot',\n",
    "}\n",
    "\n",
    "# Load classifier predictions (replace this with your actual data)\n",
    "classifier_preds = np.load('artifacts/classifier_preds.npy')\n",
    "\n",
    "# Create a DataFrame\n",
    "df = pd.DataFrame(grid)\n",
    "df.rename(columns={0:'x', 1:'y'}, inplace=True)\n",
    "df['label'] = [class_labels[label] for label in classifier_preds]\n",
    "df['y'] = 1 - df['y']  # Invert y values\n",
    "\n",
    "# Create a scatter plot using Matplotlib\n",
    "plt.figure(figsize=(6, 6))\n",
    "for label, color in color_map.items():\n",
    "    label_df = df[df['label'] == class_labels[label]]\n",
    "    plt.scatter(label_df['x'], label_df['y'], color=color, label=class_labels[label], s=1.0, alpha=1.0, edgecolors='none')\n",
    "\n",
    "# Customize the plot\n",
    "plt.xlim(0, 1)\n",
    "plt.ylim(0, 1)\n",
    "plt.gca().spines['top'].set_visible(False)\n",
    "plt.gca().spines['right'].set_visible(False)\n",
    "plt.gca().spines['bottom'].set_visible(False)\n",
    "plt.gca().spines['left'].set_visible(False)\n",
    "plt.xticks([])\n",
    "plt.yticks([])\n",
    "\n",
    "# Save the image without borders\n",
    "plt.savefig(\"latentMap.png\", dpi=300, bbox_inches='tight', pad_inches=0.0)\n"
   ]
  },
  {
   "cell_type": "code",
   "execution_count": null,
   "metadata": {},
   "outputs": [],
   "source": []
  }
 ],
 "metadata": {
  "kernelspec": {
   "display_name": "insta_gen_env",
   "language": "python",
   "name": "python3"
  },
  "language_info": {
   "codemirror_mode": {
    "name": "ipython",
    "version": 3
   },
   "file_extension": ".py",
   "mimetype": "text/x-python",
   "name": "python",
   "nbconvert_exporter": "python",
   "pygments_lexer": "ipython3",
   "version": "3.8.13"
  },
  "orig_nbformat": 4
 },
 "nbformat": 4,
 "nbformat_minor": 2
}
